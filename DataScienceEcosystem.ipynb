{
  "metadata": {
    "kernelspec": {
      "name": "python",
      "display_name": "Python (Pyodide)",
      "language": "python"
    },
    "language_info": {
      "codemirror_mode": {
        "name": "python",
        "version": 3
      },
      "file_extension": ".py",
      "mimetype": "text/x-python",
      "name": "python",
      "nbconvert_exporter": "python",
      "pygments_lexer": "ipython3",
      "version": "3.8"
    }
  },
  "nbformat_minor": 5,
  "nbformat": 4,
  "cells": [
    {
      "id": "61c789c5-c2dd-4d2c-a866-bc0c0f2954fb",
      "cell_type": "markdown",
      "source": "# Data Science Tools and Ecosystem",
      "metadata": {}
    },
    {
      "id": "a4d43f4b-072a-4bce-bf99-dd4b9dba6eba",
      "cell_type": "markdown",
      "source": "## name\nAuthor",
      "metadata": {}
    },
    {
      "id": "5f378b0b-743d-4028-a662-b00f55d0f35f",
      "cell_type": "markdown",
      "source": "In this notebook, Data Science Tools and Ecosystem are summarized.",
      "metadata": {}
    },
    {
      "id": "98c7490d-423e-4282-8079-76d50845f6a9",
      "cell_type": "markdown",
      "source": "**Objectives:**\n* List popular languages for Data Science\n* Python\n* R\n* C#",
      "metadata": {}
    },
    {
      "id": "95849768-0d46-4200-85be-9a42f7d17e4a",
      "cell_type": "markdown",
      "source": "Some of the popular languages that Data Scientists use are:\n\n1. Python\n2. R\n3. Scala",
      "metadata": {}
    },
    {
      "id": "9f7b302b-8c4d-408b-9150-cda2eb696fcc",
      "cell_type": "markdown",
      "source": "Some of the commonly used libraries used by Data Scientists include:\n\n1. Tensorflow\n2. Keras\n3. Numpy\n4. Pandas",
      "metadata": {}
    },
    {
      "id": "7f1b55d1-6487-457f-a1dd-b6075222dac2",
      "cell_type": "markdown",
      "source": "| Data Science Tools |\n|:-----------|\n| Anaconda |\n| Jupyter Notebook |\n| VSCode |",
      "metadata": {}
    },
    {
      "id": "53c4a1a4-79ec-4be5-8387-476e9d7c4bea",
      "cell_type": "markdown",
      "source": "### Below are a few examples of evaluating arithmetic expressions in Python",
      "metadata": {}
    },
    {
      "id": "e4d13e8d-bacc-4220-b01a-e8cdc6af1781",
      "cell_type": "code",
      "source": "#This a simple arithmetic expression to mutiply then add integers\n(3*4)+5",
      "metadata": {
        "trusted": true
      },
      "outputs": [
        {
          "execution_count": 3,
          "output_type": "execute_result",
          "data": {
            "text/plain": "17"
          },
          "metadata": {}
        }
      ],
      "execution_count": 3
    },
    {
      "id": "aad8806c-1330-4000-bfa4-e4a1bbaa2592",
      "cell_type": "code",
      "source": "#This will convert 200 minutes to hours by diving by 60\ntm = 200 #minutes\nth = tm / 60 #hours\nprint(th)",
      "metadata": {
        "trusted": true
      },
      "outputs": [
        {
          "name": "stdout",
          "output_type": "stream",
          "text": "3.3333333333333335\n"
        }
      ],
      "execution_count": 5
    },
    {
      "id": "0a873359-4114-4b49-b46c-90cc23385e82",
      "cell_type": "code",
      "source": "",
      "metadata": {
        "trusted": true
      },
      "outputs": [],
      "execution_count": null
    }
  ]
}